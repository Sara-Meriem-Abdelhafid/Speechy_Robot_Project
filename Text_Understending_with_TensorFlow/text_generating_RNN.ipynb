{
 "cells": [
  {
   "cell_type": "code",
   "execution_count": null,
   "metadata": {},
   "outputs": [],
   "source": []
  },
  {
   "cell_type": "markdown",
   "metadata": {},
   "source": [
    "## RNN : Recurrent Neural Networks (this type of NN takes the sequence of the data into account when it's learing the World Order Metters)"
   ]
  },
  {
   "cell_type": "markdown",
   "metadata": {},
   "source": [
    "##### what's involved in changing From sequence list data to sequential data\n",
    "\n",
    "##### Ann => f(datd, labels)= rules               //no sequence inherent in this\n",
    "\n",
    "##### Rnn => f(xi)=(yi,Feed_Forward_vali+1) to get passed to the next neuron           //explore the anatomy of numeric sequence, like Fibonacci Sequence"
   ]
  },
  {
   "cell_type": "markdown",
   "metadata": {},
   "source": []
  },
  {
   "cell_type": "markdown",
   "metadata": {},
   "source": [
    "#### The RNN Weakens as the context spreads the word in position 1 has a very little impact on the word in position 100\n"
   ]
  },
  {
   "cell_type": "markdown",
   "metadata": {},
   "source": [
    "#### the Key there is to go with the Longer Short-Term Memory"
   ]
  },
  {
   "cell_type": "markdown",
   "metadata": {},
   "source": []
  }
 ],
 "metadata": {
  "language_info": {
   "name": "python"
  }
 },
 "nbformat": 4,
 "nbformat_minor": 2
}
